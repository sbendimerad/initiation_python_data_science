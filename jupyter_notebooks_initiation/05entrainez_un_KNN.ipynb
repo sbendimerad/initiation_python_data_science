{
 "cells": [
  {
   "cell_type": "markdown",
   "metadata": {},
   "source": [
    "## Entrainez un KNN pour classifier des images "
   ]
  },
  {
   "cell_type": "markdown",
   "metadata": {},
   "source": [
    "### Description du jeu de données MNIST :\n",
    "\n",
    "\n",
    "* Dataset très célèbreconstitué d'un ensemble de 70000 images 28x28 pixels en noir et blanc annotées du chiffre correspondant (entre 0 et 9). \n",
    "\n",
    "* L'objectif de ce jeu de données était de permettre à un ordinateur d'apprendre à reconnaître des nombres manuscrits automatiquement (pour lire des chèques par exemple). Ce dataset utilise des données réelles qui ont déjà été pré-traitées pour être plus facilement utilisables par un algorithme (Plusieurs techniques existent pour pré-traiter des images):\n",
    "    * Egalisation d'histogramme\n",
    "    * Filtrage, Détection de contours\n",
    "    * Extraction de features avec SIFT,ORB ou CNN (Voir un cours de computer vision pour les détails)"
   ]
  },
  {
   "cell_type": "code",
   "execution_count": 1,
   "metadata": {},
   "outputs": [],
   "source": [
    "# import packages\n",
    "import numpy as np\n",
    "import pandas as pd\n",
    "import matplotlib.pyplot as plt\n",
    "from IPython import display "
   ]
  },
  {
   "cell_type": "code",
   "execution_count": 2,
   "metadata": {},
   "outputs": [],
   "source": [
    "from sklearn.datasets import fetch_openml"
   ]
  },
  {
   "cell_type": "markdown",
   "metadata": {},
   "source": [
    "Notre objectif sera donc d'entraîner un modèle qui sera capable de reconnaître les chiffres écrits sur ce type d'images. Le dataset MNIST est déjà disponible dans sickit-learn."
   ]
  },
  {
   "cell_type": "code",
   "execution_count": 3,
   "metadata": {},
   "outputs": [],
   "source": [
    "mnist = fetch_openml('mnist_784', version=1)"
   ]
  },
  {
   "cell_type": "code",
   "execution_count": 68,
   "metadata": {},
   "outputs": [],
   "source": [
    "#print(mnist.DESCR)"
   ]
  },
  {
   "cell_type": "code",
   "execution_count": 4,
   "metadata": {},
   "outputs": [
    {
     "data": {
      "text/plain": [
       "(70000, 784)"
      ]
     },
     "execution_count": 4,
     "metadata": {},
     "output_type": "execute_result"
    }
   ],
   "source": [
    "mnist.data.shape"
   ]
  },
  {
   "cell_type": "markdown",
   "metadata": {},
   "source": [
    "**data** contient les images sous forme de tableaux de 28 x 28 = 784 couleurs de pixel en niveau de gris, c'est-à-dire que la couleur de chaque pixel est représentée par un nombre entre 0 et 16 qui représente si celle-ci est proche du noir ou pas (0 = blanc, 16 = noir). \n",
    "\n"
   ]
  },
  {
   "cell_type": "code",
   "execution_count": 5,
   "metadata": {},
   "outputs": [
    {
     "data": {
      "text/plain": [
       "(70000,)"
      ]
     },
     "execution_count": 5,
     "metadata": {},
     "output_type": "execute_result"
    }
   ],
   "source": [
    "mnist.target.shape"
   ]
  },
  {
   "cell_type": "markdown",
   "metadata": {},
   "source": [
    "**target** contient les annotations (de 1 à 9) correspondant à la valeur \"lue\" du chiffre."
   ]
  },
  {
   "cell_type": "markdown",
   "metadata": {},
   "source": [
    "<div class=\"alert-info\">\n",
    "On dit ici que le nombre de features (ou dimensions) en entrée est de 28 x 28 x 1 = 784. Dans le cas où l'on aurait utilisé des images couleur et pas en niveaux de gris, on serait passé à 3 composantes couleurs par pixel (rouge, vert, bleu) et donc le nombre de features aurait été : 28 x 28 x 3 = 2352.\n",
    "</div>"
   ]
  },
  {
   "cell_type": "markdown",
   "metadata": {},
   "source": [
    "### Echantillonage :\n"
   ]
  },
  {
   "cell_type": "markdown",
   "metadata": {},
   "source": [
    "<div class=\"alert-warning\">\n",
    "Le dataset est relativement petit mais, pour le modèle k-NN, il est déjà trop gros pour obtenir rapidement des résultats. On va donc effectuer un sampling et travailler sur seulement 5000 données\n",
    "</div>"
   ]
  },
  {
   "cell_type": "code",
   "execution_count": 6,
   "metadata": {},
   "outputs": [],
   "source": [
    "sample = np.random.randint(0,70000,5000)"
   ]
  },
  {
   "cell_type": "code",
   "execution_count": 7,
   "metadata": {},
   "outputs": [
    {
     "data": {
      "text/plain": [
       "5000"
      ]
     },
     "execution_count": 7,
     "metadata": {},
     "output_type": "execute_result"
    }
   ],
   "source": [
    "len(sample)"
   ]
  },
  {
   "cell_type": "code",
   "execution_count": 8,
   "metadata": {},
   "outputs": [
    {
     "name": "stdout",
     "output_type": "stream",
     "text": [
      "[44269  6299 41863 ... 41064  8150 36131]\n"
     ]
    }
   ],
   "source": [
    "print(sample)"
   ]
  },
  {
   "cell_type": "markdown",
   "metadata": {},
   "source": [
    "5000 integers ont été selectionnées aléatoirement "
   ]
  },
  {
   "cell_type": "code",
   "execution_count": 9,
   "metadata": {},
   "outputs": [],
   "source": [
    "data = mnist.data[sample,:]\n",
    "target = mnist.target[sample]"
   ]
  },
  {
   "cell_type": "code",
   "execution_count": 10,
   "metadata": {},
   "outputs": [
    {
     "data": {
      "text/plain": [
       "(5000, 784)"
      ]
     },
     "execution_count": 10,
     "metadata": {},
     "output_type": "execute_result"
    }
   ],
   "source": [
    "data.shape"
   ]
  },
  {
   "cell_type": "code",
   "execution_count": 11,
   "metadata": {},
   "outputs": [
    {
     "data": {
      "text/plain": [
       "(5000,)"
      ]
     },
     "execution_count": 11,
     "metadata": {},
     "output_type": "execute_result"
    }
   ],
   "source": [
    "target.shape"
   ]
  },
  {
   "cell_type": "markdown",
   "metadata": {},
   "source": [
    "<div class=\"alert-success\">\n",
    "Pour faire ce travail de manière rigoureuse, regardez la fonction  sklearn.utils.resample. (car la fonction randint peut prendre des doublons)"
   ]
  },
  {
   "cell_type": "markdown",
   "metadata": {},
   "source": [
    "### Séparation en train_test :\n"
   ]
  },
  {
   "cell_type": "markdown",
   "metadata": {},
   "source": [
    "Séparation par répartition classique 80/20 entre training et testing set."
   ]
  },
  {
   "cell_type": "code",
   "execution_count": 12,
   "metadata": {},
   "outputs": [],
   "source": [
    "from sklearn.model_selection import train_test_split\n",
    "\n",
    "xtrain, xtest, ytrain, ytest = train_test_split(data, target, train_size = 0.8)"
   ]
  },
  {
   "cell_type": "markdown",
   "metadata": {},
   "source": [
    "On utilise uniquement le training set pour entraîner notre modèle et on garde le testing set pour plus tard. "
   ]
  },
  {
   "cell_type": "markdown",
   "metadata": {},
   "source": [
    "### Entrainement :\n"
   ]
  },
  {
   "cell_type": "markdown",
   "metadata": {},
   "source": [
    "<div class=\"alert-danger\">\n",
    "On test un KNN avec 3 voisins \n",
    "</div>"
   ]
  },
  {
   "cell_type": "code",
   "execution_count": 13,
   "metadata": {},
   "outputs": [],
   "source": [
    "from sklearn import neighbors"
   ]
  },
  {
   "cell_type": "code",
   "execution_count": 14,
   "metadata": {},
   "outputs": [
    {
     "data": {
      "text/plain": [
       "KNeighborsClassifier(n_neighbors=3)"
      ]
     },
     "execution_count": 14,
     "metadata": {},
     "output_type": "execute_result"
    }
   ],
   "source": [
    "knn = neighbors.KNeighborsClassifier(n_neighbors=3)\n",
    "knn.fit(xtrain,ytrain)"
   ]
  },
  {
   "cell_type": "code",
   "execution_count": 15,
   "metadata": {},
   "outputs": [
    {
     "name": "stdout",
     "output_type": "stream",
     "text": [
      "Erreur :0.06899999999999995\n"
     ]
    }
   ],
   "source": [
    "error = 1-knn.score(xtest,ytest)\n",
    "print(\"Erreur :{}\".format(error))"
   ]
  },
  {
   "cell_type": "markdown",
   "metadata": {},
   "source": [
    "<div class=\"alert-success\">\n",
    "La performance exacte de notre modèle dépend du jeu de sélection. N'hésitez pas à lancer plusieurs fois ce traitement en changeant les jeux de données d'apprentissage et de test pour vous en rendre compte.\n",
    "</div>"
   ]
  },
  {
   "cell_type": "markdown",
   "metadata": {},
   "source": [
    "### Optimisation du score sur les données de test"
   ]
  },
  {
   "cell_type": "code",
   "execution_count": 16,
   "metadata": {},
   "outputs": [],
   "source": [
    "errors =[]\n",
    "\n",
    "for k in range(2,15):\n",
    "    knn = neighbors.KNeighborsClassifier(k)\n",
    "    knn.fit(xtrain,ytrain)\n",
    "    errors.append(1-knn.score(xtest,ytest))\n",
    "    \n",
    "\n"
   ]
  },
  {
   "cell_type": "code",
   "execution_count": 17,
   "metadata": {},
   "outputs": [
    {
     "data": {
      "text/plain": [
       "[<matplotlib.lines.Line2D at 0x25c064fda00>]"
      ]
     },
     "execution_count": 17,
     "metadata": {},
     "output_type": "execute_result"
    },
    {
     "data": {
      "image/png": "[encoded data removed]",
      "text/plain": [
       "<Figure size 432x288 with 1 Axes>"
      ]
     },
     "metadata": {
      "needs_background": "light"
     },
     "output_type": "display_data"
    }
   ],
   "source": [
    "plt.plot(range(2,15),errors,'o-')   "
   ]
  },
  {
   "cell_type": "markdown",
   "metadata": {},
   "source": [
    "<span style=\"color:red\">\n",
    "Le KNN qui classifie le mieux les données, et qui donc dans ce cas précis reconnaît au mieux les nombres écrits à la main est celui avec 7 voisins.\n",
    "</span>"
   ]
  },
  {
   "cell_type": "markdown",
   "metadata": {},
   "source": [
    "### Afficher les prédictions du meilleur classifieur sur quelques données :"
   ]
  },
  {
   "cell_type": "code",
   "execution_count": 19,
   "metadata": {},
   "outputs": [
    {
     "data": {
      "image/png": "[encoded data removed]",
      "text/plain": [
       "<Figure size 432x288 with 12 Axes>"
      ]
     },
     "metadata": {
      "needs_background": "light"
     },
     "output_type": "display_data"
    }
   ],
   "source": [
    "# On récupère le classifieur le plus performant\n",
    "knn = neighbors.KNeighborsClassifier(4)\n",
    "knn.fit(xtrain, ytrain)\n",
    "\n",
    "# On récupère les prédictions sur les données test\n",
    "predicted = knn.predict(xtest)\n",
    "\n",
    "# On redimensionne les données sous forme d'images\n",
    "images = xtest.reshape((-1, 28, 28))\n",
    "\n",
    "# On selectionne un echantillon de 12 images au hasard\n",
    "select = np.random.randint(images.shape[0], size=12)\n",
    "\n",
    "# On affiche les images avec la prédiction associée\n",
    "fig,ax = plt.subplots(3,4)\n",
    "\n",
    "for index, value in enumerate(select):\n",
    "    plt.subplot(3,4,index+1)\n",
    "    plt.axis('off')\n",
    "    plt.imshow(images[value],cmap=plt.cm.gray_r,interpolation=\"nearest\")\n",
    "    plt.title('Predicted: {}'.format( predicted[value]) )\n",
    "\n",
    "plt.show()"
   ]
  },
  {
   "cell_type": "markdown",
   "metadata": {},
   "source": [
    "### Afficher les prédictions du meilleur classifieur sur quelques données :"
   ]
  },
  {
   "cell_type": "code",
   "execution_count": 20,
   "metadata": {},
   "outputs": [
    {
     "data": {
      "image/png": "[encoded data removed]",
      "text/plain": [
       "<Figure size 432x288 with 12 Axes>"
      ]
     },
     "metadata": {
      "needs_background": "light"
     },
     "output_type": "display_data"
    }
   ],
   "source": [
    "# on récupère les données mal prédites \n",
    "misclass = (ytest != predicted)\n",
    "misclass_images = images[misclass,:,:]\n",
    "misclass_predicted = predicted[misclass]\n",
    "\n",
    "# on sélectionne un échantillon de ces images\n",
    "select = np.random.randint(misclass_images.shape[0], size=12)\n",
    "\n",
    "# on affiche les images et les prédictions (erronées) associées à ces images\n",
    "for index, value in enumerate(select):\n",
    "    plt.subplot(3,4,index+1)\n",
    "    plt.axis('off')\n",
    "    plt.imshow(misclass_images[value],cmap=plt.cm.gray_r,interpolation=\"nearest\")\n",
    "    plt.title('Predicted: {}'.format(misclass_predicted[value]) )\n",
    "\n",
    "plt.show()\n"
   ]
  },
  {
   "cell_type": "code",
   "execution_count": 39,
   "metadata": {},
   "outputs": [
    {
     "data": {
      "text/plain": [
       "array(['7', '0', '8', '3', '0', '3', '0', '9', '7', '6', '8', '8', '9',\n",
       "       '3', '0', '4', '7', '0', '0', '1', '3', '8', '3', '2', '4', '0',\n",
       "       '9', '9', '2', '0', '4', '4', '7', '1', '2', '2', '0', '9', '8',\n",
       "       '1', '3', '0', '3', '2', '9', '4', '0', '1', '0', '0', '7', '1',\n",
       "       '3', '6', '1', '4', '4', '7', '5', '8', '6', '3', '5', '7', '8',\n",
       "       '7', '8', '4', '3', '8', '6', '2', '3', '0', '5', '3', '7', '2',\n",
       "       '8', '0', '1', '8', '4', '1', '6', '6', '6', '2', '7', '8', '6',\n",
       "       '4', '0', '6', '4', '3', '1', '5', '8', '0', '5', '3', '7', '1',\n",
       "       '0', '7', '7', '4', '8', '0', '9', '4', '6', '0', '9', '1', '1',\n",
       "       '0', '9', '9', '9', '5', '6', '3', '7', '3', '8', '9', '9', '7',\n",
       "       '5', '0', '4', '3', '2', '0', '0', '0', '9', '2', '2', '5', '7',\n",
       "       '9', '5', '8', '4', '5', '7', '1', '2', '8', '9', '4', '0', '9',\n",
       "       '2', '3', '1', '0', '6', '3', '3', '0', '2', '7', '1', '7', '5',\n",
       "       '1', '3', '8', '5', '2', '0', '8', '1', '1', '5', '4', '8', '9',\n",
       "       '0', '1', '0', '1', '2', '8', '3', '9', '4', '6', '7', '8', '9',\n",
       "       '1', '4', '4', '1', '9', '7', '1', '1', '3', '5', '9', '0', '6',\n",
       "       '5', '6', '2', '3', '7', '2', '5', '2', '7', '5', '9', '2', '6',\n",
       "       '8', '7', '9', '0', '9', '9', '3', '3', '3', '2', '1', '5', '1',\n",
       "       '2', '1', '2', '1', '3', '4', '0', '4', '2', '7', '4', '1', '4',\n",
       "       '7', '7', '7', '5', '7', '8', '0', '8', '0', '1', '8', '5', '3',\n",
       "       '2', '1', '0', '4', '6', '5', '6', '0', '8', '2', '5', '5', '9',\n",
       "       '1', '4', '4', '1', '0', '2', '0', '5', '1', '3', '1', '4', '4',\n",
       "       '1', '1', '5', '9', '1', '0', '8', '4', '4', '1', '5', '3', '9',\n",
       "       '9', '8', '6', '8', '3', '8', '8', '0', '7', '9', '3', '1', '6',\n",
       "       '7', '2', '4', '4', '7', '1', '5', '1', '7', '9', '9', '2', '4',\n",
       "       '7', '1', '5', '7', '1', '6', '7', '1', '6', '3', '3', '2', '4',\n",
       "       '5', '7', '0', '9', '3', '5', '5', '4', '2', '2', '6', '9', '7',\n",
       "       '1', '3', '8', '9', '9', '4', '8', '4', '4', '9', '2', '3', '2',\n",
       "       '6', '6', '6', '1', '0', '1', '1', '6', '8', '5', '6', '0', '6',\n",
       "       '5', '7', '1', '6', '8', '3', '3', '0', '5', '5', '1', '1', '1',\n",
       "       '8', '6', '0', '2', '9', '9', '0', '1', '9', '8', '9', '4', '7',\n",
       "       '1', '2', '1', '5', '4', '3', '0', '8', '3', '2', '9', '5', '0',\n",
       "       '1', '7', '9', '8', '5', '3', '9', '8', '0', '9', '3', '6', '7',\n",
       "       '8', '2', '3', '8', '9', '0', '7', '4', '6', '4', '1', '9', '0',\n",
       "       '9', '2', '0', '1', '9', '5', '7', '2', '9', '7', '1', '3', '1',\n",
       "       '5', '3', '5', '4', '4', '3', '6', '6', '5', '6', '6', '2', '1',\n",
       "       '7', '0', '7', '3', '1', '0', '3', '7', '9', '7', '4', '5', '4',\n",
       "       '9', '7', '0', '4', '0', '2', '2', '8', '8', '6', '9', '6', '1',\n",
       "       '1', '2', '3', '7', '4', '1', '2', '3', '9', '8', '3', '8', '6',\n",
       "       '7', '6', '2', '2', '0', '4', '8', '1', '7', '5', '5', '2', '0',\n",
       "       '9', '7', '2', '0', '1', '3', '4', '3', '0', '1', '1', '7', '5',\n",
       "       '3', '7', '5', '0', '1', '8', '3', '6', '0', '2', '7', '9', '5',\n",
       "       '1', '5', '7', '0', '9', '3', '1', '9', '6', '8', '3', '1', '7',\n",
       "       '4', '1', '1', '4', '9', '3', '4', '0', '4', '0', '6', '6', '4',\n",
       "       '1', '2', '0', '9', '1', '2', '7', '0', '6', '7', '1', '0', '5',\n",
       "       '0', '7', '5', '1', '0', '6', '3', '3', '3', '2', '4', '3', '7',\n",
       "       '0', '3', '7', '4', '8', '1', '6', '6', '5', '0', '7', '5', '1',\n",
       "       '0', '4', '0', '5', '2', '7', '8', '8', '5', '7', '8', '8', '3',\n",
       "       '5', '9', '7', '2', '6', '1', '3', '5', '8', '1', '8', '7', '1',\n",
       "       '1', '5', '7', '0', '4', '9', '1', '1', '3', '5', '5', '5', '0',\n",
       "       '3', '3', '8', '2', '7', '1', '0', '7', '2', '4', '4', '5', '3',\n",
       "       '5', '3', '9', '3', '1', '2', '3', '1', '3', '4', '8', '7', '8',\n",
       "       '7', '3', '6', '2', '5', '0', '9', '9', '3', '0', '6', '9', '1',\n",
       "       '1', '6', '5', '6', '3', '5', '0', '6', '4', '6', '6', '9', '6',\n",
       "       '6', '5', '8', '3', '6', '9', '4', '3', '6', '1', '1', '9', '2',\n",
       "       '2', '2', '9', '2', '9', '9', '0', '7', '4', '7', '7', '0', '0',\n",
       "       '7', '9', '8', '7', '5', '7', '0', '1', '4', '3', '2', '9', '9',\n",
       "       '5', '0', '1', '8', '5', '3', '1', '2', '3', '3', '7', '7', '1',\n",
       "       '6', '5', '0', '9', '7', '9', '5', '6', '7', '0', '6', '8', '8',\n",
       "       '7', '1', '7', '1', '0', '2', '7', '2', '4', '9', '1', '1', '1',\n",
       "       '0', '0', '5', '5', '8', '7', '4', '3', '5', '4', '0', '8', '8',\n",
       "       '3', '1', '5', '5', '9', '6', '8', '1', '4', '0', '6', '1', '1',\n",
       "       '6', '2', '3', '5', '1', '6', '2', '1', '6', '8', '9', '0', '1',\n",
       "       '7', '9', '1', '4', '5', '9', '1', '5', '3', '5', '2', '2', '6',\n",
       "       '1', '8', '9', '3', '4', '4', '6', '7', '5', '6', '3', '4', '0',\n",
       "       '9', '5', '1', '1', '4', '7', '2', '0', '2', '1', '5', '5', '6',\n",
       "       '8', '4', '0', '9', '7', '4', '2', '7', '1', '3', '5', '1', '8',\n",
       "       '3', '0', '5', '8', '1', '6', '4', '0', '1', '0', '7', '8', '7',\n",
       "       '4', '4', '5', '7', '0', '0', '9', '1', '8', '8', '6', '9', '6',\n",
       "       '6', '3', '1', '7', '6', '5', '3', '7', '8', '2', '4', '1', '4',\n",
       "       '1', '3', '8', '1', '0', '2', '3', '3', '3', '5', '8', '7', '1',\n",
       "       '9', '2', '4', '4', '4', '4', '8', '6', '0', '9', '8', '5', '2',\n",
       "       '8', '3', '7', '6', '7', '9', '3', '3', '2', '7', '4', '4', '4',\n",
       "       '9', '3', '7', '4', '9', '6', '6', '6', '3', '1', '8', '2', '4',\n",
       "       '9', '1', '7', '1', '6', '7', '7', '8', '2', '9', '6', '5', '4',\n",
       "       '1', '9', '9', '2', '9', '8', '6', '1', '2', '8', '1', '1', '2',\n",
       "       '2', '8', '9', '2', '1', '0', '7', '8', '0', '0', '0', '9'],\n",
       "      dtype=object)"
      ]
     },
     "execution_count": 39,
     "metadata": {},
     "output_type": "execute_result"
    }
   ],
   "source": [
    "predicted"
   ]
  },
  {
   "cell_type": "code",
   "execution_count": 30,
   "metadata": {},
   "outputs": [
    {
     "data": {
      "text/plain": [
       "'3'"
      ]
     },
     "execution_count": 30,
     "metadata": {},
     "output_type": "execute_result"
    }
   ],
   "source": [
    "predicted[5]"
   ]
  },
  {
   "cell_type": "code",
   "execution_count": 31,
   "metadata": {},
   "outputs": [
    {
     "data": {
      "text/plain": [
       "array([  0.,   0.,   0.,   0.,   0.,   0.,   0.,   0.,   0.,   0.,   0.,\n",
       "         0.,   0.,   0.,   0.,   0.,   0.,   0.,   0.,   0.,   0.,   0.,\n",
       "         0.,   0.,   0.,   0.,   0.,   0.,   0.,   0.,   0.,   0.,   0.,\n",
       "         0.,   0.,   0.,   0.,   0.,   0.,   0.,   0.,   0.,   0.,   0.,\n",
       "         0.,   0.,   0.,   0.,   0.,   0.,   0.,   0.,   0.,   0.,   0.,\n",
       "         0.,   0.,   0.,   0.,   0.,   0.,   0.,   0.,   0.,   0.,   0.,\n",
       "         0.,   0.,   0.,   0.,   0.,   0.,   0.,   0.,   0.,   0.,   0.,\n",
       "         0.,   0.,   0.,   0.,   0.,   0.,   0.,   0.,   0.,   0.,   0.,\n",
       "         0.,   0.,   0.,   0.,   0.,   0.,   0.,   0.,   0.,   0.,   0.,\n",
       "         0.,   0.,   0.,   0.,   0.,   0.,   0.,   0.,   0.,   0.,   0.,\n",
       "         0.,   0.,   0.,   0.,   0.,   0.,   0.,   0.,   0.,   0.,   0.,\n",
       "         0.,   0.,   0.,   0.,   0.,   0.,   0.,   0.,   0.,   0.,   0.,\n",
       "         0.,   0.,   0.,   0.,   0.,   0.,   0.,   0.,   0.,   0.,   0.,\n",
       "         0.,   0.,   0.,   0.,   0.,   0.,   0.,  60., 191., 255., 253.,\n",
       "       253., 253., 179.,  10.,   0.,   0.,   0.,   0.,   0.,   0.,   0.,\n",
       "         0.,   0.,   0.,   0.,   0.,   0.,   0.,   0.,   0.,   0.,   0.,\n",
       "         0.,   0., 197., 252., 253., 252., 252., 252., 253., 159.,   0.,\n",
       "         0.,   0.,   0.,   0.,   0.,   0.,   0.,   0.,   0.,   0.,   0.,\n",
       "         0.,   0.,   0.,   0.,   0.,   0.,   0.,   0.,  81., 168., 168.,\n",
       "        93., 171., 252., 253., 196.,   0.,   0.,   0.,   0.,   0.,   0.,\n",
       "         0.,   0.,   0.,   0.,   0.,   0.,   0.,   0.,   0.,   0.,   0.,\n",
       "         0.,   0.,   0.,   0.,   0.,   0.,   0., 134., 252., 253.,  96.,\n",
       "         0.,   0.,   0.,   0.,   0.,   0.,   0.,   0.,   0.,   0.,   0.,\n",
       "         0.,   0.,   0.,   0.,   0.,   0.,   0.,   0.,   0.,   0.,   0.,\n",
       "         0.,  57., 253., 253., 239.,  38.,   0.,   0.,   0.,   0.,   0.,\n",
       "         0.,   0.,   0.,   0.,   0.,   0.,   0.,   0.,   0.,   0.,   0.,\n",
       "         0.,   0.,   0.,   0.,   0.,   0.,   0., 131., 252., 252., 150.,\n",
       "         0.,   0.,   0.,   0.,   0.,   0.,   0.,   0.,   0.,   0.,   0.,\n",
       "         0.,   0.,   0.,   0.,   0.,   0.,   0.,   0.,   0.,   0.,   0.,\n",
       "         0.,  23., 234., 252., 252., 223., 172.,  19.,   0.,   0.,   0.,\n",
       "         0.,   0.,   0.,   0.,   0.,   0.,   0.,   0.,   0.,   0.,   0.,\n",
       "         0.,   0.,   0.,   0.,   0.,   0.,   0., 128., 252., 252., 252.,\n",
       "       253., 252., 231.,  25.,   0.,   0.,   0.,   0.,   0.,   0.,   0.,\n",
       "         0.,   0.,   0.,   0.,   0.,   0.,   0.,   0.,   0.,   0.,   0.,\n",
       "         0.,   0., 141., 253., 253., 253., 239., 244., 253., 203.,   0.,\n",
       "         0.,   0.,   0.,   0.,   0.,   0.,   0.,   0.,   0.,   0.,   0.,\n",
       "         0.,   0.,   0.,   0.,   0.,   0.,   0.,   0., 116., 240., 196.,\n",
       "        96.,  38., 169., 252., 252.,   0.,   0.,   0.,   0.,   0.,   0.,\n",
       "         0.,   0.,   0.,   0.,   0.,   0.,   0.,   0.,   0.,   0.,   0.,\n",
       "         0.,   0.,   0.,   7.,  43.,   0.,   0.,   0., 169., 252., 252.,\n",
       "         0.,   0.,   0.,   0.,   0.,   0.,   0.,   0.,   0.,   0.,   0.,\n",
       "         0.,   0.,   0.,   0.,   0.,   0.,   0.,   0.,   0.,   0.,   0.,\n",
       "         0.,   0.,  13., 206., 252., 102.,   0.,   0.,   0.,   0.,   0.,\n",
       "         0.,   0.,   0.,   0.,   0.,   0.,   0.,   0.,   0.,   0.,   0.,\n",
       "         0.,   0.,   0.,   0.,   0.,   0.,   0.,   0., 154., 253., 244.,\n",
       "        25.,   0.,   0.,   0.,   0.,   0.,   0.,   0.,   0.,   0.,   0.,\n",
       "         0.,   0.,   0.,   0.,   0.,   0.,   0.,   0.,   0.,   0.,   0.,\n",
       "         0.,   0., 151., 253., 252., 142.,   0.,   0.,   0.,   0.,   0.,\n",
       "         0.,   0.,   0.,   0.,   0.,   0.,   0.,   0.,   0.,   0.,   0.,\n",
       "         0.,   0.,   0.,   0.,   0.,   0.,   0.,  67., 246., 253., 233.,\n",
       "        37.,   0.,   0.,   0.,   0.,   0.,   0.,   0.,   0.,   0.,   0.,\n",
       "         0.,   0.,   0.,   0.,   0.,   0.,   0., 101.,   0.,   0.,   0.,\n",
       "         0.,  51., 234., 252., 253., 145.,   0.,   0.,   0.,   0.,   0.,\n",
       "         0.,   0.,   0.,   0.,   0.,   0.,   0.,   0.,   0.,   0.,   0.,\n",
       "         0.,   0., 192.,  66.,  29.,  29.,  92., 216., 253., 253., 151.,\n",
       "         0.,   0.,   0.,   0.,   0.,   0.,   0.,   0.,   0.,   0.,   0.,\n",
       "         0.,   0.,   0.,   0.,   0.,   0.,   0.,   0., 228., 252., 252.,\n",
       "       252., 253., 252., 252., 202.,   0.,   0.,   0.,   0.,   0.,   0.,\n",
       "         0.,   0.,   0.,   0.,   0.,   0.,   0.,   0.,   0.,   0.,   0.,\n",
       "         0.,   0.,   0., 104., 252., 252., 252., 253., 252., 186.,  19.,\n",
       "         0.,   0.,   0.,   0.,   0.,   0.,   0.,   0.,   0.,   0.,   0.,\n",
       "         0.,   0.,   0.,   0.,   0.,   0.,   0.,   0.,   0.,   4., 128.,\n",
       "       252., 252., 241., 115.,   6.,   0.,   0.,   0.,   0.,   0.,   0.,\n",
       "         0.,   0.,   0.,   0.,   0.,   0.,   0.,   0.,   0.,   0.,   0.,\n",
       "         0.,   0.,   0.,   0.,   0.,   0.,   0.,   0.,   0.,   0.,   0.,\n",
       "         0.,   0.,   0.,   0.,   0.,   0.,   0.,   0.,   0.,   0.,   0.,\n",
       "         0.,   0.,   0.,   0.,   0.,   0.,   0.,   0.,   0.,   0.,   0.,\n",
       "         0.,   0.,   0.,   0.,   0.,   0.,   0.,   0.,   0.,   0.,   0.,\n",
       "         0.,   0.,   0.,   0.,   0.,   0.,   0.,   0.,   0.,   0.,   0.,\n",
       "         0.,   0.,   0.,   0.,   0.,   0.,   0.,   0.,   0.,   0.,   0.,\n",
       "         0.,   0.,   0.,   0.,   0.,   0.,   0.,   0.,   0.,   0.,   0.,\n",
       "         0.,   0.,   0.])"
      ]
     },
     "execution_count": 31,
     "metadata": {},
     "output_type": "execute_result"
    }
   ],
   "source": [
    "xtest[5,:]"
   ]
  }
 ],
 "metadata": {
  "kernelspec": {
   "display_name": "Python 3",
   "language": "python",
   "name": "python3"
  },
  "language_info": {
   "codemirror_mode": {
    "name": "ipython",
    "version": 3
   },
   "file_extension": ".py",
   "mimetype": "text/x-python",
   "name": "python",
   "nbconvert_exporter": "python",
   "pygments_lexer": "ipython3",
   "version": "3.8.3"
  }
 },
 "nbformat": 4,
 "nbformat_minor": 4
}
